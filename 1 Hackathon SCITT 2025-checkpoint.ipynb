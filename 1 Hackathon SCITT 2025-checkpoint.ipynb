{
 "cells": [
  {
   "cell_type": "markdown",
   "id": "864931e5-648c-4e1e-b93e-9bb24adf9b3c",
   "metadata": {},
   "source": [
    "## SCITT 2025 HACKATHON ONE"
   ]
  },
  {
   "cell_type": "markdown",
   "id": "a9b257c8-2b1e-492e-be17-8a13a0ff812b",
   "metadata": {},
   "source": [
    "## Group Quizzes"
   ]
  },
  {
   "cell_type": "markdown",
   "id": "5ef693fd-1e2d-42d6-b329-ef972261e649",
   "metadata": {},
   "source": [
    "#### Exercise 1"
   ]
  },
  {
   "cell_type": "markdown",
   "id": "7f4ce9d5-24f0-473d-a068-03c43c5ad77c",
   "metadata": {},
   "source": [
    "1. Given two integer numbers '8' and '7', write a Python code to return their product only if the product is equal to or lower than 1000. Otherwise, return their sum."
   ]
  },
  {
   "cell_type": "code",
   "execution_count": 63,
   "id": "4273d499-ceda-4600-96c5-6b53912f7c7c",
   "metadata": {},
   "outputs": [
    {
     "data": {
      "text/plain": [
       "3005"
      ]
     },
     "execution_count": 63,
     "metadata": {},
     "output_type": "execute_result"
    }
   ],
   "source": [
    "def prduct_of_numbers(x, y):\n",
    "    if x*y <= 1000:\n",
    "        return x*y\n",
    "    else:\n",
    "        return x+y\n",
    "prduct_of_numbers(3000,5)\n",
    "    "
   ]
  },
  {
   "cell_type": "markdown",
   "id": "e523ae07-9717-4920-a1c9-765f7800d2d6",
   "metadata": {},
   "source": [
    "#### Exercise 2"
   ]
  },
  {
   "cell_type": "markdown",
   "id": "402133c5-48ee-4cf2-a4a8-1e2f10227a51",
   "metadata": {},
   "source": [
    "Print the Sum of a Current Number and a Previous number"
   ]
  },
  {
   "cell_type": "code",
   "execution_count": 66,
   "id": "9d92f163-4e64-4f7f-ace2-6e8001010f80",
   "metadata": {},
   "outputs": [
    {
     "name": "stdout",
     "output_type": "stream",
     "text": [
      "1 0 1\n",
      "2 1 3\n",
      "3 2 5\n",
      "4 3 7\n",
      "5 4 9\n"
     ]
    }
   ],
   "source": [
    "## Solution 1\n",
    "prev_n = 0\n",
    "for current_n in range(1, 6):\n",
    "    sum_num = prev_n + current_n\n",
    "    print(current_n, prev_n, sum_num)\n",
    "    prev_n = current_n \n"
   ]
  },
  {
   "cell_type": "code",
   "execution_count": 67,
   "id": "0bef5e78-de45-4875-a37f-eb32cde1164a",
   "metadata": {},
   "outputs": [
    {
     "name": "stdout",
     "output_type": "stream",
     "text": [
      " Current number is 2, previous number is 1: Sum is 3\n",
      " Current number is 3, previous number is 2: Sum is 5\n",
      " Current number is 4, previous number is 3: Sum is 7\n",
      " Current number is 5, previous number is 4: Sum is 9\n"
     ]
    }
   ],
   "source": [
    "## Solution 2\n",
    "numbers = [1,2,3,4,5]\n",
    "for i in range(1, len(numbers)):\n",
    "    current_number = numbers[i]\n",
    "    previous_number = numbers[i-1]\n",
    "    sum_of_numbers = current_number + previous_number\n",
    "    print(f' Current number is {current_number}, previous number is {previous_number}: Sum is {sum_of_numbers}')"
   ]
  },
  {
   "cell_type": "markdown",
   "id": "aa420e64-8858-48a7-be0b-1a4e35c4005f",
   "metadata": {},
   "source": [
    "## Exercise 3"
   ]
  },
  {
   "cell_type": "markdown",
   "id": "89a85764-0c7e-40d9-9dca-04cd7645397e",
   "metadata": {},
   "source": [
    "Print multiplication table from 1 to 10"
   ]
  },
  {
   "cell_type": "code",
   "execution_count": 70,
   "id": "d25e194e-7670-4636-9b2a-023596889bbe",
   "metadata": {},
   "outputs": [
    {
     "name": "stdout",
     "output_type": "stream",
     "text": [
      "1,2,3,4,5,6,7,8,9,10,\t\t\n",
      "2,4,6,8,10,12,14,16,18,20,\t\t\n",
      "3,6,9,12,15,18,21,24,27,30,\t\t\n",
      "4,8,12,16,20,24,28,32,36,40,\t\t\n",
      "5,10,15,20,25,30,35,40,45,50,\t\t\n",
      "6,12,18,24,30,36,42,48,54,60,\t\t\n",
      "7,14,21,28,35,42,49,56,63,70,\t\t\n",
      "8,16,24,32,40,48,56,64,72,80,\t\t\n",
      "9,18,27,36,45,54,63,72,81,90,\t\t\n",
      "10,20,30,40,50,60,70,80,90,100,\t\t\n"
     ]
    }
   ],
   "source": [
    "for i in range(1,11):\n",
    "    for j in range(1, 11):\n",
    "        print(i*j, end=',')\n",
    "    print('\\t\\t')"
   ]
  },
  {
   "cell_type": "markdown",
   "id": "98fbf38b-db92-484d-8c1b-3069db608a06",
   "metadata": {},
   "source": [
    "## Exercise 4"
   ]
  },
  {
   "cell_type": "markdown",
   "id": "16ea1fbf-73b6-4380-8a95-c9b7733c975e",
   "metadata": {},
   "source": [
    " Print characters present at an even index number"
   ]
  },
  {
   "cell_type": "code",
   "execution_count": 73,
   "id": "33f6ca89-4b09-4ed3-8ebc-2d3f5f7425b6",
   "metadata": {},
   "outputs": [
    {
     "data": {
      "text/plain": [
       "['p', 't', 'r']"
      ]
     },
     "execution_count": 73,
     "metadata": {},
     "output_type": "execute_result"
    }
   ],
   "source": [
    "x = 'peter'\n",
    "s = list(x)\n",
    "s[0::2]\n"
   ]
  },
  {
   "cell_type": "markdown",
   "id": "9060fd18-b68a-421c-b3ac-ce0274008f37",
   "metadata": {},
   "source": [
    "## Exercise 5"
   ]
  },
  {
   "cell_type": "markdown",
   "id": "75387c66-3b3f-403a-9a59-038872e6b5cd",
   "metadata": {},
   "source": [
    "Print the following pattern"
   ]
  },
  {
   "attachments": {
    "666ce27c-928a-427b-9125-47c7d76b8d8a.png": {
     "image/png": "[encoded data removed]"
    }
   },
   "cell_type": "markdown",
   "id": "74781764-f131-4bb9-bf1d-365062609470",
   "metadata": {},
   "source": [
    "![image.png](attachment:666ce27c-928a-427b-9125-47c7d76b8d8a.png)"
   ]
  },
  {
   "cell_type": "code",
   "execution_count": 77,
   "id": "881819f1-0f48-4a7a-ba68-cc212d72427e",
   "metadata": {},
   "outputs": [
    {
     "name": "stdout",
     "output_type": "stream",
     "text": [
      "1,\t\n",
      "2,2,\t\n",
      "3,3,3,\t\n",
      "4,4,4,4,\t\n",
      "5,5,5,5,5,\t\n",
      "6,6,6,6,6,6,\t\n"
     ]
    }
   ],
   "source": [
    "for num in range(1, 7):\n",
    "    for i in range(num):\n",
    "        print(num, end=',')\n",
    "    print('\\t')"
   ]
  },
  {
   "cell_type": "markdown",
   "id": "3690f4c2-12e7-4020-9280-678738149912",
   "metadata": {},
   "source": [
    "## Exercise 6"
   ]
  },
  {
   "cell_type": "markdown",
   "id": "80c7538f-cd8e-408c-9752-0c49bd55735b",
   "metadata": {},
   "source": [
    "Create a function in such a way that we can pass any number of arguments to this function, and the function should process them and display each argument’s value."
   ]
  },
  {
   "cell_type": "markdown",
   "id": "b25982a2-05b3-48cd-a783-01447af4286e",
   "metadata": {},
   "source": [
    "## Exercise 7"
   ]
  },
  {
   "cell_type": "markdown",
   "id": "23287479-0327-478a-af7c-11ccfa65e8f1",
   "metadata": {},
   "source": [
    "Write a program to create function calculation() such that it can accept two variables and calculate addition and subtraction. Also, it must return both addition and subtraction in a single return call."
   ]
  },
  {
   "cell_type": "code",
   "execution_count": 91,
   "id": "f092058e-6926-4f1b-a4cb-d857764c9c30",
   "metadata": {},
   "outputs": [
    {
     "data": {
      "text/plain": [
       "(18, 2)"
      ]
     },
     "execution_count": 91,
     "metadata": {},
     "output_type": "execute_result"
    }
   ],
   "source": [
    "## Solution 1\n",
    "\n",
    "def addition_subtraction(a, b):\n",
    "    addition = a+b\n",
    "    subtraction = a-b\n",
    "    return addition, subtraction\n",
    "\n",
    "addition_subtraction(10, 8)"
   ]
  },
  {
   "cell_type": "code",
   "execution_count": 93,
   "id": "5f36c4de-a93c-469d-8fe5-80f8a6120167",
   "metadata": {},
   "outputs": [
    {
     "data": {
      "text/plain": [
       "(9, -1)"
      ]
     },
     "execution_count": 93,
     "metadata": {},
     "output_type": "execute_result"
    }
   ],
   "source": [
    "## Solution 2\n",
    "\n",
    "def additiion_subtraction(a, b):\n",
    "    return a+b, a-b\n",
    "additiion_subtraction(4, 5)"
   ]
  },
  {
   "cell_type": "markdown",
   "id": "74a5c651-5eed-4e13-b023-d467eb29859f",
   "metadata": {},
   "source": [
    "## Exercise 8"
   ]
  },
  {
   "cell_type": "markdown",
   "id": "dd8950af-290f-4f9c-b136-b5564d7707e5",
   "metadata": {},
   "source": [
    "#### Create a function with a default argument\n",
    "Write a program to create a function called show_employee() using the following conditions.\n",
    "* It should accept the employee’s name and salary and display both.\n",
    "* If the salary is missing in the function call then assign default value 9000 to salary"
   ]
  },
  {
   "cell_type": "markdown",
   "id": "141af3fc-8cba-4e34-a89b-68c92f9a5ba0",
   "metadata": {},
   "source": [
    "## Exercise 9 - Individual Quiz"
   ]
  },
  {
   "cell_type": "markdown",
   "id": "83b482b6-f9e9-4ec7-a85c-f935ff8bed8c",
   "metadata": {},
   "source": [
    "Write a program to accept two numbers from the user and calculate multiplication"
   ]
  },
  {
   "cell_type": "markdown",
   "id": "c1b0fbc5-9346-4530-88c3-a0f1f1a5b50f",
   "metadata": {},
   "source": [
    "## Exercise 10 - Individual Quiz"
   ]
  },
  {
   "cell_type": "markdown",
   "id": "20008420-299d-4601-835b-f8cc13678151",
   "metadata": {},
   "source": [
    "Display three string “Name”, “Is”, “James” as “Name**Is**James”\n",
    "* Use the print() function to format the given words in the mentioned format. Display the ** separator between each string."
   ]
  },
  {
   "cell_type": "markdown",
   "id": "be68b254-3053-47ca-be7d-77715d1b75b3",
   "metadata": {},
   "source": [
    "## Exercise 11 - Individual Quiz"
   ]
  },
  {
   "cell_type": "markdown",
   "id": "19229aa3-b377-4abb-b92d-b6a632bdfeb6",
   "metadata": {},
   "source": [
    "What is the output of the following code?"
   ]
  },
  {
   "cell_type": "code",
   "execution_count": 111,
   "id": "0387e2cf-8e39-4c6b-bf81-da90fa60b2fb",
   "metadata": {},
   "outputs": [
    {
     "name": "stdout",
     "output_type": "stream",
     "text": [
      "30\n"
     ]
    }
   ],
   "source": [
    "def calculate (num1, num2=4):\n",
    "  res = num1 * num2\n",
    "  print(res)\n",
    "\n",
    "calculate(5, 6)"
   ]
  },
  {
   "cell_type": "markdown",
   "id": "ad2d9160-04d6-4400-92c8-ea2c55b5274e",
   "metadata": {},
   "source": [
    "## Exercise 12 "
   ]
  },
  {
   "cell_type": "markdown",
   "id": "55c827e7-8065-4e65-bb95-eecd00197836",
   "metadata": {},
   "source": [
    "Given an integer,'n', perform the following conditional actions:\n",
    "\n",
    "If 'n' s odd, print Weird\n",
    "If 'n' is even and in the inclusive range of 2 to 5, print Not Weird\n",
    "If;'n' is even and in the inclusive range of 6 to 20, print Weird\n",
    "If 'n' is even and greater than 30, print Not Weird"
   ]
  },
  {
   "cell_type": "markdown",
   "id": "72753023-37b7-4a0c-a0cb-c6df4e0a9ebf",
   "metadata": {},
   "source": [
    "## Exercise 11 - 20: GIT Quizes for teams and individuals"
   ]
  },
  {
   "cell_type": "markdown",
   "id": "3d465bd0-4bdf-4e92-b954-7afb37c9a237",
   "metadata": {},
   "source": [
    "### Q. 1 What is Git, and how is it different from GitHub?"
   ]
  },
  {
   "cell_type": "markdown",
   "id": "a9bb4838-0b99-477c-b44b-a4ce41805ba1",
   "metadata": {},
   "source": [
    "#### Answer\n",
    "Git is a distributed version control system used to track changes in code. GitHub is a cloud-based platform that hosts Git repositories and facilitates collaboration."
   ]
  },
  {
   "cell_type": "markdown",
   "id": "6d8ab938-e723-46d0-9493-5f5832567d4f",
   "metadata": {},
   "source": [
    "### Q2. How do you check the status of your working directory in Git?"
   ]
  },
  {
   "cell_type": "markdown",
   "id": "a634586a-b6da-4f2a-b6cd-3dfa21c141b2",
   "metadata": {},
   "source": [
    "#### Answer\n",
    "git status"
   ]
  },
  {
   "cell_type": "markdown",
   "id": "f9663b55-2bab-447f-aff0-c89707acce02",
   "metadata": {},
   "source": [
    "## Q 3. What command is used to stage files before committing them?"
   ]
  },
  {
   "cell_type": "markdown",
   "id": "798c3482-7097-4e43-9091-fa0d24bb4b65",
   "metadata": {},
   "source": [
    "git add <filename> or git add . to add all changes"
   ]
  },
  {
   "cell_type": "markdown",
   "id": "acecc527-4573-4db5-99d7-cb8f9aa16721",
   "metadata": {},
   "source": [
    "## Q 4. How do you commit changes with a message?"
   ]
  },
  {
   "cell_type": "markdown",
   "id": "32742485-e7fe-4153-b24c-7556a76c1ebe",
   "metadata": {},
   "source": [
    "## Q 5.  What is the command to create a new branch?"
   ]
  },
  {
   "cell_type": "markdown",
   "id": "79dbf0b0-38ce-41b8-bd34-a4fc0a29b16a",
   "metadata": {},
   "source": [
    "## Q 6. How do you switch to another branch?"
   ]
  },
  {
   "cell_type": "markdown",
   "id": "253edb50-22e0-40f5-8291-0f752f88822c",
   "metadata": {},
   "source": [
    "## Q 7. How do you merge a branch into the current branch?"
   ]
  },
  {
   "cell_type": "markdown",
   "id": "0f5431d4-6a76-40f4-85a5-d4f6d1df3a75",
   "metadata": {},
   "source": [
    "## Q 8. How do you push your local commits to a remote repository?"
   ]
  },
  {
   "cell_type": "markdown",
   "id": "8e8cc2ff-bf26-4bb0-8a80-e38180eedd41",
   "metadata": {},
   "source": [
    "## Q 9. How do you pull the latest changes from a remote repository?"
   ]
  },
  {
   "cell_type": "markdown",
   "id": "a7ebb398-4e65-4e8e-a4d0-83b65a8cc7ae",
   "metadata": {},
   "source": [
    "## Q 10. What is a pull request (PR), and when should you use it?"
   ]
  },
  {
   "cell_type": "markdown",
   "id": "66576ff8-4928-4a51-89a7-3654ee3302c9",
   "metadata": {},
   "source": [
    "A pull request is a way to propose changes from one branch (often a feature branch) to another (like main or develop). It is used in collaborative workflows for code review before merging."
   ]
  },
  {
   "cell_type": "markdown",
   "id": "6817b2bb-7ec1-4a7a-ae7b-4c34720df083",
   "metadata": {},
   "source": [
    "###### Q 11. Simulate a Git workflow: One team member initializes a repository and makes a commit. Another team member clones it, creates a new branch, makes a change, and pushes it. The first team member reviews and merges the change."
   ]
  },
  {
   "cell_type": "markdown",
   "id": "2a1ae499-9c42-4206-beb2-035d8a589f33",
   "metadata": {},
   "source": [
    "###### Q 12. Resolve a merge conflict: Two team members edit the same line of a file in different branches. Merge the branches and resolve the conflict."
   ]
  },
  {
   "cell_type": "code",
   "execution_count": null,
   "id": "ec8199e3-1b9e-4315-8ddf-a78a06ae4dfd",
   "metadata": {},
   "outputs": [],
   "source": []
  }
 ],
 "metadata": {
  "kernelspec": {
   "display_name": "Python 3 (ipykernel)",
   "language": "python",
   "name": "python3"
  },
  "language_info": {
   "codemirror_mode": {
    "name": "ipython",
    "version": 3
   },
   "file_extension": ".py",
   "mimetype": "text/x-python",
   "name": "python",
   "nbconvert_exporter": "python",
   "pygments_lexer": "ipython3",
   "version": "3.12.7"
  }
 },
 "nbformat": 4,
 "nbformat_minor": 5
}
